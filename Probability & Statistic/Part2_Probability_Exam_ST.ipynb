{
 "cells": [
  {
   "cell_type": "markdown",
   "metadata": {},
   "source": [
    "To resolve this problem we treat data on sql to import data of number meteorites by year.\n"
   ]
  },
  {
   "cell_type": "code",
   "execution_count": 43,
   "metadata": {},
   "outputs": [],
   "source": [
    "%matplotlib inline\n",
    "import matplotlib.pyplot as plt\n",
    "import numpy as np\n",
    "from scipy import stats\n",
    "import pandas as pd\n",
    "import seaborn as sns\n",
    "import statsmodels.api as sm\n",
    "from sklearn import linear_model\n",
    "df = pd.read_excel ('New_year_data.xlsx')"
   ]
  },
  {
   "cell_type": "markdown",
   "metadata": {},
   "source": [
    "Now we make a plot representing this distribution."
   ]
  },
  {
   "cell_type": "code",
   "execution_count": 44,
   "metadata": {},
   "outputs": [
    {
     "data": {
      "text/plain": [
       "<seaborn.axisgrid.FacetGrid at 0x226cc03d2e0>"
      ]
     },
     "execution_count": 44,
     "metadata": {},
     "output_type": "execute_result"
    },
    {
     "data": {
      "image/png": "[encoded data removed]",
      "text/plain": [
       "<Figure size 360x360 with 1 Axes>"
      ]
     },
     "metadata": {
      "needs_background": "light"
     },
     "output_type": "display_data"
    }
   ],
   "source": [
    "sns.lmplot(x=\"year\", y=\"Number_meteorite\", data=df)"
   ]
  },
  {
   "cell_type": "code",
   "execution_count": 45,
   "metadata": {},
   "outputs": [
    {
     "name": "stdout",
     "output_type": "stream",
     "text": [
      "                                 OLS Regression Results                                \n",
      "=======================================================================================\n",
      "Dep. Variable:       Number_meteorite   R-squared (uncentered):                   0.122\n",
      "Model:                            OLS   Adj. R-squared (uncentered):              0.119\n",
      "Method:                 Least Squares   F-statistic:                              35.00\n",
      "Date:                Sat, 27 Mar 2021   Prob (F-statistic):                    1.08e-08\n",
      "Time:                        11:38:54   Log-Likelihood:                         -1929.3\n",
      "No. Observations:                 252   AIC:                                      3861.\n",
      "Df Residuals:                     251   BIC:                                      3864.\n",
      "Df Model:                           1                                                  \n",
      "Covariance Type:            nonrobust                                                  \n",
      "==============================================================================\n",
      "                 coef    std err          t      P>|t|      [0.025      0.975]\n",
      "------------------------------------------------------------------------------\n",
      "year           0.1018      0.017      5.916      0.000       0.068       0.136\n",
      "==============================================================================\n",
      "Omnibus:                      221.917   Durbin-Watson:                   0.623\n",
      "Prob(Omnibus):                  0.000   Jarque-Bera (JB):             2783.861\n",
      "Skew:                           3.723   Prob(JB):                         0.00\n",
      "Kurtosis:                      17.480   Cond. No.                         1.00\n",
      "==============================================================================\n",
      "\n",
      "Notes:\n",
      "[1] R² is computed without centering (uncentered) since the model does not contain a constant.\n",
      "[2] Standard Errors assume that the covariance matrix of the errors is correctly specified.\n"
     ]
    }
   ],
   "source": [
    "x = df[[\"year\"]]\n",
    "y = df[\"Number_meteorite\"]\n",
    "\n",
    "model = linear_model.LinearRegression()\n",
    "results = model.fit(x, y)\n",
    "\n",
    "model = sm.OLS(y, x)\n",
    "results = model.fit()\n",
    "# Avec  statsmodel, on a une sortie qui ressemble beaucoup à celle de R\n",
    "print(results.summary())"
   ]
  },
  {
   "cell_type": "markdown",
   "metadata": {},
   "source": [
    "This graphic is correct but cannot be use because there are some points very distant from others. So, we will eliminate all the points very distants from other points.All the points where there  are not much meteorite will also be move. We will take in account that at that time there were not very good method to detect méteorites . So we will take meteorite from the year 1970. Taking this year, will permit us to do a more realistic linear regression."
   ]
  },
  {
   "cell_type": "markdown",
   "metadata": {},
   "source": [
    "Our new lianear regression will be :"
   ]
  },
  {
   "cell_type": "code",
   "execution_count": 46,
   "metadata": {},
   "outputs": [
    {
     "data": {
      "text/plain": [
       "<seaborn.axisgrid.FacetGrid at 0x226caf54460>"
      ]
     },
     "execution_count": 46,
     "metadata": {},
     "output_type": "execute_result"
    },
    {
     "data": {
      "image/png": "[encoded data removed]",
      "text/plain": [
       "<Figure size 360x360 with 1 Axes>"
      ]
     },
     "metadata": {
      "needs_background": "light"
     },
     "output_type": "display_data"
    }
   ],
   "source": [
    "df2 = df[df['year']>1970]\n",
    "df3 = df2[df2['year']<2014]\n",
    "sns.lmplot(x=\"year\", y=\"Number_meteorite\", data=df3)"
   ]
  },
  {
   "cell_type": "code",
   "execution_count": 52,
   "metadata": {},
   "outputs": [
    {
     "name": "stdout",
     "output_type": "stream",
     "text": [
      "-52141.66445182725 [26.67774086]\n",
      "[1587.30564784]\n",
      "                                 OLS Regression Results                                \n",
      "=======================================================================================\n",
      "Dep. Variable:       Number_meteorite   R-squared (uncentered):                   0.576\n",
      "Model:                            OLS   Adj. R-squared (uncentered):              0.566\n",
      "Method:                 Least Squares   F-statistic:                              57.02\n",
      "Date:                Sat, 27 Mar 2021   Prob (F-statistic):                    2.39e-09\n",
      "Time:                        12:12:35   Log-Likelihood:                         -351.58\n",
      "No. Observations:                  43   AIC:                                      705.2\n",
      "Df Residuals:                      42   BIC:                                      706.9\n",
      "Df Model:                           1                                                  \n",
      "Covariance Type:            nonrobust                                                  \n",
      "==============================================================================\n",
      "                 coef    std err          t      P>|t|      [0.025      0.975]\n",
      "------------------------------------------------------------------------------\n",
      "year           0.5032      0.067      7.551      0.000       0.369       0.638\n",
      "==============================================================================\n",
      "Omnibus:                        6.954   Durbin-Watson:                   1.289\n",
      "Prob(Omnibus):                  0.031   Jarque-Bera (JB):                6.536\n",
      "Skew:                           0.954   Prob(JB):                       0.0381\n",
      "Kurtosis:                       3.070   Cond. No.                         1.00\n",
      "==============================================================================\n",
      "\n",
      "Notes:\n",
      "[1] R² is computed without centering (uncentered) since the model does not contain a constant.\n",
      "[2] Standard Errors assume that the covariance matrix of the errors is correctly specified.\n"
     ]
    }
   ],
   "source": [
    "x = df3[[\"year\"]]\n",
    "y = df3[\"Number_meteorite\"]\n",
    "\n",
    "model = linear_model.LinearRegression()\n",
    "results = model.fit(x, y)\n",
    "\n",
    "print(results.intercept_, results.coef_)\n",
    "\n",
    "E = results.intercept_+ results.coef_* 2014 \n",
    "\n",
    "print(E)\n",
    "\n",
    "model = sm.OLS(y, x)\n",
    "results = model.fit()\n",
    "print(results.summary())"
   ]
  },
  {
   "cell_type": "markdown",
   "metadata": {},
   "source": [
    "The best linear approximation and therefore y=a+Bx with a= -52141.66445182725  b=26.67774086\n",
    "We can conclude from this linear regression that the number of meteorites in 2014 will be :\n",
    "1587.30564784\n",
    "\n",
    "We can see that in this case the correlation coefficient is much higher than in the first case, but still very far from 1; So the method of linear regression is really not the best method of approximation.\n",
    "So, this approach of prediction scientically not robust.\n"
   ]
  },
  {
   "cell_type": "code",
   "execution_count": null,
   "metadata": {},
   "outputs": [],
   "source": []
  },
  {
   "cell_type": "code",
   "execution_count": null,
   "metadata": {},
   "outputs": [],
   "source": []
  },
  {
   "cell_type": "code",
   "execution_count": null,
   "metadata": {},
   "outputs": [],
   "source": []
  }
 ],
 "metadata": {
  "kernelspec": {
   "display_name": "Python 3",
   "language": "python",
   "name": "python3"
  },
  "language_info": {
   "codemirror_mode": {
    "name": "ipython",
    "version": 3
   },
   "file_extension": ".py",
   "mimetype": "text/x-python",
   "name": "python",
   "nbconvert_exporter": "python",
   "pygments_lexer": "ipython3",
   "version": "3.8.5"
  }
 },
 "nbformat": 4,
 "nbformat_minor": 4
}
